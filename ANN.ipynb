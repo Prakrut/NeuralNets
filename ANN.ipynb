{
  "nbformat": 4,
  "nbformat_minor": 0,
  "metadata": {
    "colab": {
      "name": "ANN.ipynb",
      "provenance": [],
      "authorship_tag": "ABX9TyPr+8t/rdqfflg5p9ZjwLdd",
      "include_colab_link": true
    },
    "kernelspec": {
      "name": "python3",
      "display_name": "Python 3"
    }
  },
  "cells": [
    {
      "cell_type": "markdown",
      "metadata": {
        "id": "view-in-github",
        "colab_type": "text"
      },
      "source": [
        "<a href=\"https://colab.research.google.com/github/Prakrut/NeuralNets/blob/master/ANN.ipynb\" target=\"_parent\"><img src=\"https://colab.research.google.com/assets/colab-badge.svg\" alt=\"Open In Colab\"/></a>"
      ]
    },
    {
      "cell_type": "markdown",
      "metadata": {
        "id": "IxZ4_sA-lsDA"
      },
      "source": [
        "## Artificial Neural Network Using Tesorflow"
      ]
    },
    {
      "cell_type": "markdown",
      "metadata": {
        "id": "0BTdGhTkl204"
      },
      "source": [
        "Import Libraries"
      ]
    },
    {
      "cell_type": "code",
      "metadata": {
        "id": "T0F8VIPbj6bN"
      },
      "source": [
        "import pandas as pd\n",
        "import numpy as np\n",
        "import tensorflow as tf"
      ],
      "execution_count": 1,
      "outputs": []
    },
    {
      "cell_type": "code",
      "metadata": {
        "id": "XP-cL4PvkBjs",
        "outputId": "24c3eb0d-5964-4e68-94ad-dbb42473ea4e",
        "colab": {
          "base_uri": "https://localhost:8080/",
          "height": 35
        }
      },
      "source": [
        "tf.__version__\n"
      ],
      "execution_count": 4,
      "outputs": [
        {
          "output_type": "execute_result",
          "data": {
            "application/vnd.google.colaboratory.intrinsic+json": {
              "type": "string"
            },
            "text/plain": [
              "'2.3.0'"
            ]
          },
          "metadata": {
            "tags": []
          },
          "execution_count": 4
        }
      ]
    },
    {
      "cell_type": "markdown",
      "metadata": {
        "id": "KU6YQrEgl58m"
      },
      "source": [
        "# Data Preprocessing"
      ]
    },
    {
      "cell_type": "code",
      "metadata": {
        "id": "EzIgKYEekT9o"
      },
      "source": [
        "dataset = pd.read_csv('Churn_Modelling.csv')\n",
        "X = dataset.iloc[:, 3:-1].values\n",
        "y = dataset.iloc[:,-1].values"
      ],
      "execution_count": 11,
      "outputs": []
    },
    {
      "cell_type": "code",
      "metadata": {
        "id": "kWN_UNQ5mIho",
        "outputId": "555b91d4-c228-4242-a62d-b59bacfeca8b",
        "colab": {
          "base_uri": "https://localhost:8080/",
          "height": 153
        }
      },
      "source": [
        "print(X.shape)\n",
        "X"
      ],
      "execution_count": 13,
      "outputs": [
        {
          "output_type": "stream",
          "text": [
            "(10000, 10)\n"
          ],
          "name": "stdout"
        },
        {
          "output_type": "execute_result",
          "data": {
            "text/plain": [
              "array([[619, 'France', 'Female', ..., 1, 1, 101348.88],\n",
              "       [608, 'Spain', 'Female', ..., 0, 1, 112542.58],\n",
              "       [502, 'France', 'Female', ..., 1, 0, 113931.57],\n",
              "       ...,\n",
              "       [709, 'France', 'Female', ..., 0, 1, 42085.58],\n",
              "       [772, 'Germany', 'Male', ..., 1, 0, 92888.52],\n",
              "       [792, 'France', 'Female', ..., 1, 0, 38190.78]], dtype=object)"
            ]
          },
          "metadata": {
            "tags": []
          },
          "execution_count": 13
        }
      ]
    },
    {
      "cell_type": "markdown",
      "metadata": {
        "id": "kLvsYnqEm0yu"
      },
      "source": [
        "Encoding categorical data"
      ]
    },
    {
      "cell_type": "code",
      "metadata": {
        "id": "_d6dzIBin6hL"
      },
      "source": [
        "from sklearn.compose import ColumnTransformer\n",
        "from sklearn.preprocessing import OneHotEncoder, LabelEncoder"
      ],
      "execution_count": 19,
      "outputs": []
    },
    {
      "cell_type": "code",
      "metadata": {
        "id": "PRwuhkVvmUlk",
        "outputId": "9fd4b462-2bc5-427a-fc16-a1df1540bd1e",
        "colab": {
          "base_uri": "https://localhost:8080/",
          "height": 85
        }
      },
      "source": [
        "dataset.columns"
      ],
      "execution_count": 14,
      "outputs": [
        {
          "output_type": "execute_result",
          "data": {
            "text/plain": [
              "Index(['RowNumber', 'CustomerId', 'Surname', 'CreditScore', 'Geography',\n",
              "       'Gender', 'Age', 'Tenure', 'Balance', 'NumOfProducts', 'HasCrCard',\n",
              "       'IsActiveMember', 'EstimatedSalary', 'Exited'],\n",
              "      dtype='object')"
            ]
          },
          "metadata": {
            "tags": []
          },
          "execution_count": 14
        }
      ]
    },
    {
      "cell_type": "markdown",
      "metadata": {
        "id": "uPIRqeyWoxse"
      },
      "source": [
        "Gender Column (Only using LabelEncoding for Male/Female)"
      ]
    },
    {
      "cell_type": "code",
      "metadata": {
        "id": "yx_FvmMVoFgH"
      },
      "source": [
        "le = LabelEncoder()\n",
        "X[:, 2] = le.fit_transform(X[:, 2])"
      ],
      "execution_count": 20,
      "outputs": []
    },
    {
      "cell_type": "code",
      "metadata": {
        "id": "fJbJsBdiocY_",
        "outputId": "facd878a-64df-4a78-bd6a-dbd9da97d56f",
        "colab": {
          "base_uri": "https://localhost:8080/",
          "height": 255
        }
      },
      "source": [
        "dataset.head(6)"
      ],
      "execution_count": 29,
      "outputs": [
        {
          "output_type": "execute_result",
          "data": {
            "text/html": [
              "<div>\n",
              "<style scoped>\n",
              "    .dataframe tbody tr th:only-of-type {\n",
              "        vertical-align: middle;\n",
              "    }\n",
              "\n",
              "    .dataframe tbody tr th {\n",
              "        vertical-align: top;\n",
              "    }\n",
              "\n",
              "    .dataframe thead th {\n",
              "        text-align: right;\n",
              "    }\n",
              "</style>\n",
              "<table border=\"1\" class=\"dataframe\">\n",
              "  <thead>\n",
              "    <tr style=\"text-align: right;\">\n",
              "      <th></th>\n",
              "      <th>RowNumber</th>\n",
              "      <th>CustomerId</th>\n",
              "      <th>Surname</th>\n",
              "      <th>CreditScore</th>\n",
              "      <th>Geography</th>\n",
              "      <th>Gender</th>\n",
              "      <th>Age</th>\n",
              "      <th>Tenure</th>\n",
              "      <th>Balance</th>\n",
              "      <th>NumOfProducts</th>\n",
              "      <th>HasCrCard</th>\n",
              "      <th>IsActiveMember</th>\n",
              "      <th>EstimatedSalary</th>\n",
              "      <th>Exited</th>\n",
              "    </tr>\n",
              "  </thead>\n",
              "  <tbody>\n",
              "    <tr>\n",
              "      <th>0</th>\n",
              "      <td>1</td>\n",
              "      <td>15634602</td>\n",
              "      <td>Hargrave</td>\n",
              "      <td>619</td>\n",
              "      <td>France</td>\n",
              "      <td>Female</td>\n",
              "      <td>42</td>\n",
              "      <td>2</td>\n",
              "      <td>0.00</td>\n",
              "      <td>1</td>\n",
              "      <td>1</td>\n",
              "      <td>1</td>\n",
              "      <td>101348.88</td>\n",
              "      <td>1</td>\n",
              "    </tr>\n",
              "    <tr>\n",
              "      <th>1</th>\n",
              "      <td>2</td>\n",
              "      <td>15647311</td>\n",
              "      <td>Hill</td>\n",
              "      <td>608</td>\n",
              "      <td>Spain</td>\n",
              "      <td>Female</td>\n",
              "      <td>41</td>\n",
              "      <td>1</td>\n",
              "      <td>83807.86</td>\n",
              "      <td>1</td>\n",
              "      <td>0</td>\n",
              "      <td>1</td>\n",
              "      <td>112542.58</td>\n",
              "      <td>0</td>\n",
              "    </tr>\n",
              "    <tr>\n",
              "      <th>2</th>\n",
              "      <td>3</td>\n",
              "      <td>15619304</td>\n",
              "      <td>Onio</td>\n",
              "      <td>502</td>\n",
              "      <td>France</td>\n",
              "      <td>Female</td>\n",
              "      <td>42</td>\n",
              "      <td>8</td>\n",
              "      <td>159660.80</td>\n",
              "      <td>3</td>\n",
              "      <td>1</td>\n",
              "      <td>0</td>\n",
              "      <td>113931.57</td>\n",
              "      <td>1</td>\n",
              "    </tr>\n",
              "    <tr>\n",
              "      <th>3</th>\n",
              "      <td>4</td>\n",
              "      <td>15701354</td>\n",
              "      <td>Boni</td>\n",
              "      <td>699</td>\n",
              "      <td>France</td>\n",
              "      <td>Female</td>\n",
              "      <td>39</td>\n",
              "      <td>1</td>\n",
              "      <td>0.00</td>\n",
              "      <td>2</td>\n",
              "      <td>0</td>\n",
              "      <td>0</td>\n",
              "      <td>93826.63</td>\n",
              "      <td>0</td>\n",
              "    </tr>\n",
              "    <tr>\n",
              "      <th>4</th>\n",
              "      <td>5</td>\n",
              "      <td>15737888</td>\n",
              "      <td>Mitchell</td>\n",
              "      <td>850</td>\n",
              "      <td>Spain</td>\n",
              "      <td>Female</td>\n",
              "      <td>43</td>\n",
              "      <td>2</td>\n",
              "      <td>125510.82</td>\n",
              "      <td>1</td>\n",
              "      <td>1</td>\n",
              "      <td>1</td>\n",
              "      <td>79084.10</td>\n",
              "      <td>0</td>\n",
              "    </tr>\n",
              "    <tr>\n",
              "      <th>5</th>\n",
              "      <td>6</td>\n",
              "      <td>15574012</td>\n",
              "      <td>Chu</td>\n",
              "      <td>645</td>\n",
              "      <td>Spain</td>\n",
              "      <td>Male</td>\n",
              "      <td>44</td>\n",
              "      <td>8</td>\n",
              "      <td>113755.78</td>\n",
              "      <td>2</td>\n",
              "      <td>1</td>\n",
              "      <td>0</td>\n",
              "      <td>149756.71</td>\n",
              "      <td>1</td>\n",
              "    </tr>\n",
              "  </tbody>\n",
              "</table>\n",
              "</div>"
            ],
            "text/plain": [
              "   RowNumber  CustomerId   Surname  ...  IsActiveMember EstimatedSalary Exited\n",
              "0          1    15634602  Hargrave  ...               1       101348.88      1\n",
              "1          2    15647311      Hill  ...               1       112542.58      0\n",
              "2          3    15619304      Onio  ...               0       113931.57      1\n",
              "3          4    15701354      Boni  ...               0        93826.63      0\n",
              "4          5    15737888  Mitchell  ...               1        79084.10      0\n",
              "5          6    15574012       Chu  ...               0       149756.71      1\n",
              "\n",
              "[6 rows x 14 columns]"
            ]
          },
          "metadata": {
            "tags": []
          },
          "execution_count": 29
        }
      ]
    },
    {
      "cell_type": "markdown",
      "metadata": {
        "id": "yQ75goJzo4-0"
      },
      "source": [
        "Onehotencoding for Geography"
      ]
    },
    {
      "cell_type": "code",
      "metadata": {
        "id": "XYGO43iXonK6",
        "outputId": "b8837915-fc1a-4c33-9cfc-111cad8e7285",
        "colab": {
          "base_uri": "https://localhost:8080/",
          "height": 51
        }
      },
      "source": [
        "ct = ColumnTransformer(transformers=[('encoder', OneHotEncoder(), [1])], remainder='passthrough', verbose=True)\n",
        "X = np.array(ct.fit_transform(X))\n"
      ],
      "execution_count": 31,
      "outputs": [
        {
          "output_type": "stream",
          "text": [
            "[ColumnTransformer] ....... (1 of 2) Processing encoder, total=   0.0s\n",
            "[ColumnTransformer] ..... (2 of 2) Processing remainder, total=   0.0s\n"
          ],
          "name": "stdout"
        }
      ]
    },
    {
      "cell_type": "code",
      "metadata": {
        "id": "3M9AI_S4qIfX",
        "outputId": "cc08d600-b10d-4a0a-93e7-8aabf6e00560",
        "colab": {
          "base_uri": "https://localhost:8080/",
          "height": 51
        }
      },
      "source": [
        "X[0]"
      ],
      "execution_count": 32,
      "outputs": [
        {
          "output_type": "execute_result",
          "data": {
            "text/plain": [
              "array([1.0, 0.0, 0.0, 619, 0, 42, 2, 0.0, 1, 1, 1, 101348.88],\n",
              "      dtype=object)"
            ]
          },
          "metadata": {
            "tags": []
          },
          "execution_count": 32
        }
      ]
    },
    {
      "cell_type": "markdown",
      "metadata": {
        "id": "xr6AXJPPqYqc"
      },
      "source": [
        "Split Data into Train and Test"
      ]
    },
    {
      "cell_type": "code",
      "metadata": {
        "id": "iXizYt_uqPEp"
      },
      "source": [
        "from sklearn.model_selection import train_test_split"
      ],
      "execution_count": 33,
      "outputs": []
    },
    {
      "cell_type": "code",
      "metadata": {
        "id": "GxT6nYWzqkE2"
      },
      "source": [
        "X_train, X_test, y_train, y_test = train_test_split(X, y, test_size=0.2)"
      ],
      "execution_count": 34,
      "outputs": []
    },
    {
      "cell_type": "markdown",
      "metadata": {
        "id": "Lkcd9Jbrq_r-"
      },
      "source": [
        "Feature Scaling"
      ]
    },
    {
      "cell_type": "code",
      "metadata": {
        "id": "rJhAoQZbq0cw"
      },
      "source": [
        "from sklearn.preprocessing import StandardScaler\n",
        "sc = StandardScaler()\n",
        "X_train = sc.fit_transform(X_train)\n",
        "X_test = sc.transform(X_test)"
      ],
      "execution_count": 35,
      "outputs": []
    },
    {
      "cell_type": "code",
      "metadata": {
        "id": "LML2PRzergp8",
        "outputId": "4488792e-c77e-429c-95fd-0c04bc3a7e7d",
        "colab": {
          "base_uri": "https://localhost:8080/",
          "height": 238
        }
      },
      "source": [
        "print(X_train)"
      ],
      "execution_count": 36,
      "outputs": [
        {
          "output_type": "stream",
          "text": [
            "[[ 0.99750312 -0.58042949 -0.57234647 ... -1.5547807  -1.02429504\n",
            "  -1.50614218]\n",
            " [ 0.99750312 -0.58042949 -0.57234647 ...  0.64317752 -1.02429504\n",
            "  -0.25873586]\n",
            " [-1.00250313  1.72286214 -0.57234647 ... -1.5547807   0.97628121\n",
            "  -0.1770722 ]\n",
            " ...\n",
            " [-1.00250313  1.72286214 -0.57234647 ...  0.64317752 -1.02429504\n",
            "   1.31024568]\n",
            " [ 0.99750312 -0.58042949 -0.57234647 ...  0.64317752  0.97628121\n",
            "  -1.62403582]\n",
            " [ 0.99750312 -0.58042949 -0.57234647 ...  0.64317752 -1.02429504\n",
            "   0.57382344]]\n"
          ],
          "name": "stdout"
        }
      ]
    },
    {
      "cell_type": "markdown",
      "metadata": {
        "id": "wV5z21Z4rspQ"
      },
      "source": [
        "# Build ANN using TF"
      ]
    },
    {
      "cell_type": "markdown",
      "metadata": {
        "id": "jrFYXGzNrxyq"
      },
      "source": [
        "Initialize the ANN"
      ]
    },
    {
      "cell_type": "code",
      "metadata": {
        "id": "aEQ_5GXYrv46"
      },
      "source": [
        "ann = tf.keras.models.Sequential()"
      ],
      "execution_count": 37,
      "outputs": []
    },
    {
      "cell_type": "code",
      "metadata": {
        "id": "eM1MhdBasLE_"
      },
      "source": [
        "ann.add(tf.keras.layers.Dense(6, activation='relu'))"
      ],
      "execution_count": 38,
      "outputs": []
    },
    {
      "cell_type": "code",
      "metadata": {
        "id": "5RdbyPRJs1ri"
      },
      "source": [
        "ann.add(tf.keras.layers.Dense(1,activation='sigmoid'))"
      ],
      "execution_count": 39,
      "outputs": []
    },
    {
      "cell_type": "markdown",
      "metadata": {
        "id": "zcbMVz4-tpFy"
      },
      "source": [
        "# Train ANN"
      ]
    },
    {
      "cell_type": "markdown",
      "metadata": {
        "id": "16T9xIYrtbVL"
      },
      "source": [
        "Compile ANN with Adam optimizer using binary cross entropy for loss function and accuracy as metrics"
      ]
    },
    {
      "cell_type": "code",
      "metadata": {
        "id": "KMy1DNbCtXEQ"
      },
      "source": [
        "ann.compile(optimizer='adam',\n",
        "            loss='binary_crossentropy',\n",
        "            metrics=['accuracy'])"
      ],
      "execution_count": 40,
      "outputs": []
    },
    {
      "cell_type": "markdown",
      "metadata": {
        "id": "u-7lUojzuTP4"
      },
      "source": [
        "Training the model"
      ]
    },
    {
      "cell_type": "code",
      "metadata": {
        "id": "aArJSA-juR3_",
        "outputId": "76d05042-2449-40ff-8c74-53e0ff5bccda",
        "colab": {
          "base_uri": "https://localhost:8080/",
          "height": 1000
        }
      },
      "source": [
        "ann.fit(x = X_train,\n",
        "        y = y_train,\n",
        "        batch_size = 32,\n",
        "        epochs = 100,\n",
        "        verbose = 2)"
      ],
      "execution_count": 41,
      "outputs": [
        {
          "output_type": "stream",
          "text": [
            "Epoch 1/100\n",
            "250/250 - 0s - loss: 0.6445 - accuracy: 0.6660\n",
            "Epoch 2/100\n",
            "250/250 - 0s - loss: 0.4830 - accuracy: 0.8009\n",
            "Epoch 3/100\n",
            "250/250 - 0s - loss: 0.4482 - accuracy: 0.8101\n",
            "Epoch 4/100\n",
            "250/250 - 0s - loss: 0.4334 - accuracy: 0.8156\n",
            "Epoch 5/100\n",
            "250/250 - 0s - loss: 0.4245 - accuracy: 0.8214\n",
            "Epoch 6/100\n",
            "250/250 - 0s - loss: 0.4182 - accuracy: 0.8242\n",
            "Epoch 7/100\n",
            "250/250 - 0s - loss: 0.4126 - accuracy: 0.8271\n",
            "Epoch 8/100\n",
            "250/250 - 0s - loss: 0.4065 - accuracy: 0.8305\n",
            "Epoch 9/100\n",
            "250/250 - 0s - loss: 0.4002 - accuracy: 0.8340\n",
            "Epoch 10/100\n",
            "250/250 - 0s - loss: 0.3934 - accuracy: 0.8391\n",
            "Epoch 11/100\n",
            "250/250 - 0s - loss: 0.3862 - accuracy: 0.8407\n",
            "Epoch 12/100\n",
            "250/250 - 0s - loss: 0.3786 - accuracy: 0.8459\n",
            "Epoch 13/100\n",
            "250/250 - 0s - loss: 0.3724 - accuracy: 0.8476\n",
            "Epoch 14/100\n",
            "250/250 - 0s - loss: 0.3669 - accuracy: 0.8508\n",
            "Epoch 15/100\n",
            "250/250 - 0s - loss: 0.3620 - accuracy: 0.8519\n",
            "Epoch 16/100\n",
            "250/250 - 0s - loss: 0.3585 - accuracy: 0.8545\n",
            "Epoch 17/100\n",
            "250/250 - 0s - loss: 0.3555 - accuracy: 0.8562\n",
            "Epoch 18/100\n",
            "250/250 - 0s - loss: 0.3531 - accuracy: 0.8551\n",
            "Epoch 19/100\n",
            "250/250 - 0s - loss: 0.3514 - accuracy: 0.8574\n",
            "Epoch 20/100\n",
            "250/250 - 0s - loss: 0.3499 - accuracy: 0.8585\n",
            "Epoch 21/100\n",
            "250/250 - 0s - loss: 0.3488 - accuracy: 0.8587\n",
            "Epoch 22/100\n",
            "250/250 - 0s - loss: 0.3483 - accuracy: 0.8579\n",
            "Epoch 23/100\n",
            "250/250 - 0s - loss: 0.3471 - accuracy: 0.8587\n",
            "Epoch 24/100\n",
            "250/250 - 0s - loss: 0.3465 - accuracy: 0.8587\n",
            "Epoch 25/100\n",
            "250/250 - 0s - loss: 0.3459 - accuracy: 0.8594\n",
            "Epoch 26/100\n",
            "250/250 - 0s - loss: 0.3453 - accuracy: 0.8587\n",
            "Epoch 27/100\n",
            "250/250 - 0s - loss: 0.3450 - accuracy: 0.8590\n",
            "Epoch 28/100\n",
            "250/250 - 0s - loss: 0.3450 - accuracy: 0.8590\n",
            "Epoch 29/100\n",
            "250/250 - 0s - loss: 0.3445 - accuracy: 0.8587\n",
            "Epoch 30/100\n",
            "250/250 - 0s - loss: 0.3443 - accuracy: 0.8597\n",
            "Epoch 31/100\n",
            "250/250 - 0s - loss: 0.3440 - accuracy: 0.8579\n",
            "Epoch 32/100\n",
            "250/250 - 0s - loss: 0.3439 - accuracy: 0.8604\n",
            "Epoch 33/100\n",
            "250/250 - 0s - loss: 0.3438 - accuracy: 0.8589\n",
            "Epoch 34/100\n",
            "250/250 - 0s - loss: 0.3433 - accuracy: 0.8585\n",
            "Epoch 35/100\n",
            "250/250 - 0s - loss: 0.3435 - accuracy: 0.8590\n",
            "Epoch 36/100\n",
            "250/250 - 0s - loss: 0.3432 - accuracy: 0.8591\n",
            "Epoch 37/100\n",
            "250/250 - 0s - loss: 0.3433 - accuracy: 0.8609\n",
            "Epoch 38/100\n",
            "250/250 - 0s - loss: 0.3431 - accuracy: 0.8597\n",
            "Epoch 39/100\n",
            "250/250 - 0s - loss: 0.3430 - accuracy: 0.8597\n",
            "Epoch 40/100\n",
            "250/250 - 0s - loss: 0.3430 - accuracy: 0.8599\n",
            "Epoch 41/100\n",
            "250/250 - 0s - loss: 0.3427 - accuracy: 0.8593\n",
            "Epoch 42/100\n",
            "250/250 - 0s - loss: 0.3427 - accuracy: 0.8599\n",
            "Epoch 43/100\n",
            "250/250 - 0s - loss: 0.3426 - accuracy: 0.8597\n",
            "Epoch 44/100\n",
            "250/250 - 0s - loss: 0.3425 - accuracy: 0.8596\n",
            "Epoch 45/100\n",
            "250/250 - 0s - loss: 0.3425 - accuracy: 0.8601\n",
            "Epoch 46/100\n",
            "250/250 - 0s - loss: 0.3425 - accuracy: 0.8590\n",
            "Epoch 47/100\n",
            "250/250 - 0s - loss: 0.3422 - accuracy: 0.8612\n",
            "Epoch 48/100\n",
            "250/250 - 0s - loss: 0.3420 - accuracy: 0.8597\n",
            "Epoch 49/100\n",
            "250/250 - 0s - loss: 0.3421 - accuracy: 0.8599\n",
            "Epoch 50/100\n",
            "250/250 - 0s - loss: 0.3422 - accuracy: 0.8606\n",
            "Epoch 51/100\n",
            "250/250 - 0s - loss: 0.3418 - accuracy: 0.8593\n",
            "Epoch 52/100\n",
            "250/250 - 0s - loss: 0.3420 - accuracy: 0.8599\n",
            "Epoch 53/100\n",
            "250/250 - 0s - loss: 0.3419 - accuracy: 0.8596\n",
            "Epoch 54/100\n",
            "250/250 - 0s - loss: 0.3419 - accuracy: 0.8595\n",
            "Epoch 55/100\n",
            "250/250 - 0s - loss: 0.3416 - accuracy: 0.8587\n",
            "Epoch 56/100\n",
            "250/250 - 0s - loss: 0.3419 - accuracy: 0.8600\n",
            "Epoch 57/100\n",
            "250/250 - 0s - loss: 0.3417 - accuracy: 0.8583\n",
            "Epoch 58/100\n",
            "250/250 - 0s - loss: 0.3417 - accuracy: 0.8604\n",
            "Epoch 59/100\n",
            "250/250 - 0s - loss: 0.3417 - accuracy: 0.8605\n",
            "Epoch 60/100\n",
            "250/250 - 0s - loss: 0.3414 - accuracy: 0.8587\n",
            "Epoch 61/100\n",
            "250/250 - 0s - loss: 0.3414 - accuracy: 0.8599\n",
            "Epoch 62/100\n",
            "250/250 - 0s - loss: 0.3415 - accuracy: 0.8584\n",
            "Epoch 63/100\n",
            "250/250 - 0s - loss: 0.3414 - accuracy: 0.8591\n",
            "Epoch 64/100\n",
            "250/250 - 0s - loss: 0.3414 - accuracy: 0.8585\n",
            "Epoch 65/100\n",
            "250/250 - 0s - loss: 0.3413 - accuracy: 0.8593\n",
            "Epoch 66/100\n",
            "250/250 - 0s - loss: 0.3414 - accuracy: 0.8593\n",
            "Epoch 67/100\n",
            "250/250 - 0s - loss: 0.3412 - accuracy: 0.8589\n",
            "Epoch 68/100\n",
            "250/250 - 0s - loss: 0.3412 - accuracy: 0.8608\n",
            "Epoch 69/100\n",
            "250/250 - 0s - loss: 0.3410 - accuracy: 0.8594\n",
            "Epoch 70/100\n",
            "250/250 - 0s - loss: 0.3411 - accuracy: 0.8601\n",
            "Epoch 71/100\n",
            "250/250 - 0s - loss: 0.3412 - accuracy: 0.8606\n",
            "Epoch 72/100\n",
            "250/250 - 0s - loss: 0.3412 - accuracy: 0.8600\n",
            "Epoch 73/100\n",
            "250/250 - 0s - loss: 0.3412 - accuracy: 0.8600\n",
            "Epoch 74/100\n",
            "250/250 - 0s - loss: 0.3411 - accuracy: 0.8590\n",
            "Epoch 75/100\n",
            "250/250 - 0s - loss: 0.3410 - accuracy: 0.8596\n",
            "Epoch 76/100\n",
            "250/250 - 0s - loss: 0.3410 - accuracy: 0.8609\n",
            "Epoch 77/100\n",
            "250/250 - 0s - loss: 0.3408 - accuracy: 0.8604\n",
            "Epoch 78/100\n",
            "250/250 - 0s - loss: 0.3410 - accuracy: 0.8600\n",
            "Epoch 79/100\n",
            "250/250 - 0s - loss: 0.3408 - accuracy: 0.8600\n",
            "Epoch 80/100\n",
            "250/250 - 0s - loss: 0.3412 - accuracy: 0.8605\n",
            "Epoch 81/100\n",
            "250/250 - 0s - loss: 0.3410 - accuracy: 0.8606\n",
            "Epoch 82/100\n",
            "250/250 - 0s - loss: 0.3409 - accuracy: 0.8608\n",
            "Epoch 83/100\n",
            "250/250 - 0s - loss: 0.3409 - accuracy: 0.8605\n",
            "Epoch 84/100\n",
            "250/250 - 0s - loss: 0.3407 - accuracy: 0.8605\n",
            "Epoch 85/100\n",
            "250/250 - 0s - loss: 0.3408 - accuracy: 0.8601\n",
            "Epoch 86/100\n",
            "250/250 - 0s - loss: 0.3409 - accuracy: 0.8610\n",
            "Epoch 87/100\n",
            "250/250 - 0s - loss: 0.3407 - accuracy: 0.8596\n",
            "Epoch 88/100\n",
            "250/250 - 0s - loss: 0.3408 - accuracy: 0.8604\n",
            "Epoch 89/100\n",
            "250/250 - 0s - loss: 0.3407 - accuracy: 0.8591\n",
            "Epoch 90/100\n",
            "250/250 - 0s - loss: 0.3406 - accuracy: 0.8594\n",
            "Epoch 91/100\n",
            "250/250 - 0s - loss: 0.3406 - accuracy: 0.8604\n",
            "Epoch 92/100\n",
            "250/250 - 0s - loss: 0.3406 - accuracy: 0.8591\n",
            "Epoch 93/100\n",
            "250/250 - 0s - loss: 0.3408 - accuracy: 0.8593\n",
            "Epoch 94/100\n",
            "250/250 - 0s - loss: 0.3403 - accuracy: 0.8606\n",
            "Epoch 95/100\n",
            "250/250 - 0s - loss: 0.3409 - accuracy: 0.8593\n",
            "Epoch 96/100\n",
            "250/250 - 0s - loss: 0.3408 - accuracy: 0.8600\n",
            "Epoch 97/100\n",
            "250/250 - 0s - loss: 0.3407 - accuracy: 0.8586\n",
            "Epoch 98/100\n",
            "250/250 - 0s - loss: 0.3406 - accuracy: 0.8600\n",
            "Epoch 99/100\n",
            "250/250 - 0s - loss: 0.3407 - accuracy: 0.8604\n",
            "Epoch 100/100\n",
            "250/250 - 0s - loss: 0.3405 - accuracy: 0.8604\n"
          ],
          "name": "stdout"
        },
        {
          "output_type": "execute_result",
          "data": {
            "text/plain": [
              "<tensorflow.python.keras.callbacks.History at 0x7f459c7a6b38>"
            ]
          },
          "metadata": {
            "tags": []
          },
          "execution_count": 41
        }
      ]
    },
    {
      "cell_type": "code",
      "metadata": {
        "id": "OYECCC-zvX53",
        "outputId": "6a3da861-25bd-4142-9477-7070604801ca",
        "colab": {
          "base_uri": "https://localhost:8080/",
          "height": 100
        }
      },
      "source": [
        "dataset.loc[dataset.Geography=='France'].head(1)"
      ],
      "execution_count": 43,
      "outputs": [
        {
          "output_type": "execute_result",
          "data": {
            "text/html": [
              "<div>\n",
              "<style scoped>\n",
              "    .dataframe tbody tr th:only-of-type {\n",
              "        vertical-align: middle;\n",
              "    }\n",
              "\n",
              "    .dataframe tbody tr th {\n",
              "        vertical-align: top;\n",
              "    }\n",
              "\n",
              "    .dataframe thead th {\n",
              "        text-align: right;\n",
              "    }\n",
              "</style>\n",
              "<table border=\"1\" class=\"dataframe\">\n",
              "  <thead>\n",
              "    <tr style=\"text-align: right;\">\n",
              "      <th></th>\n",
              "      <th>RowNumber</th>\n",
              "      <th>CustomerId</th>\n",
              "      <th>Surname</th>\n",
              "      <th>CreditScore</th>\n",
              "      <th>Geography</th>\n",
              "      <th>Gender</th>\n",
              "      <th>Age</th>\n",
              "      <th>Tenure</th>\n",
              "      <th>Balance</th>\n",
              "      <th>NumOfProducts</th>\n",
              "      <th>HasCrCard</th>\n",
              "      <th>IsActiveMember</th>\n",
              "      <th>EstimatedSalary</th>\n",
              "      <th>Exited</th>\n",
              "    </tr>\n",
              "  </thead>\n",
              "  <tbody>\n",
              "    <tr>\n",
              "      <th>0</th>\n",
              "      <td>1</td>\n",
              "      <td>15634602</td>\n",
              "      <td>Hargrave</td>\n",
              "      <td>619</td>\n",
              "      <td>France</td>\n",
              "      <td>Female</td>\n",
              "      <td>42</td>\n",
              "      <td>2</td>\n",
              "      <td>0.0</td>\n",
              "      <td>1</td>\n",
              "      <td>1</td>\n",
              "      <td>1</td>\n",
              "      <td>101348.88</td>\n",
              "      <td>1</td>\n",
              "    </tr>\n",
              "  </tbody>\n",
              "</table>\n",
              "</div>"
            ],
            "text/plain": [
              "   RowNumber  CustomerId   Surname  ...  IsActiveMember EstimatedSalary Exited\n",
              "0          1    15634602  Hargrave  ...               1       101348.88      1\n",
              "\n",
              "[1 rows x 14 columns]"
            ]
          },
          "metadata": {
            "tags": []
          },
          "execution_count": 43
        }
      ]
    },
    {
      "cell_type": "code",
      "metadata": {
        "id": "xnYiT95rvgzp",
        "outputId": "aa1b5824-68d2-434a-e6eb-28615073fc54",
        "colab": {
          "base_uri": "https://localhost:8080/",
          "height": 51
        }
      },
      "source": [
        "X[0]"
      ],
      "execution_count": 44,
      "outputs": [
        {
          "output_type": "execute_result",
          "data": {
            "text/plain": [
              "array([1.0, 0.0, 0.0, 619, 0, 42, 2, 0.0, 1, 1, 1, 101348.88],\n",
              "      dtype=object)"
            ]
          },
          "metadata": {
            "tags": []
          },
          "execution_count": 44
        }
      ]
    },
    {
      "cell_type": "code",
      "metadata": {
        "id": "bn0R7yn3unu3",
        "outputId": "4686331e-da52-4377-c8c4-1c0239d8c275",
        "colab": {
          "base_uri": "https://localhost:8080/",
          "height": 34
        }
      },
      "source": [
        "print(ann.predict(sc.transform([[1,0,0,600,1,40,3,60000,2,1,1,50000]])) > 0.5)"
      ],
      "execution_count": 47,
      "outputs": [
        {
          "output_type": "stream",
          "text": [
            "[[False]]\n"
          ],
          "name": "stdout"
        }
      ]
    },
    {
      "cell_type": "markdown",
      "metadata": {
        "id": "iUzi7bYawe3E"
      },
      "source": [
        "Predicting Accuracy"
      ]
    },
    {
      "cell_type": "code",
      "metadata": {
        "id": "yics9Ssiv9hJ",
        "outputId": "a35eb786-c7b2-4269-e2cf-9667bd3661f8",
        "colab": {
          "base_uri": "https://localhost:8080/",
          "height": 136
        }
      },
      "source": [
        "y_pred = ann.predict(X_test)\n",
        "y_pred = (y_pred > 0.5)\n",
        "print(y_pred)"
      ],
      "execution_count": 57,
      "outputs": [
        {
          "output_type": "stream",
          "text": [
            "[[ True]\n",
            " [False]\n",
            " [False]\n",
            " ...\n",
            " [ True]\n",
            " [False]\n",
            " [False]]\n"
          ],
          "name": "stdout"
        }
      ]
    },
    {
      "cell_type": "code",
      "metadata": {
        "id": "PJs0BdfvwqDn",
        "outputId": "db068a2f-2153-441f-bea7-fd79c70bae32",
        "colab": {
          "base_uri": "https://localhost:8080/",
          "height": 136
        }
      },
      "source": [
        "np.concatenate((y_pred.reshape(len(y_pred),1),y_test.reshape(len(y_test),1)),1)"
      ],
      "execution_count": 58,
      "outputs": [
        {
          "output_type": "execute_result",
          "data": {
            "text/plain": [
              "array([[1, 1],\n",
              "       [0, 0],\n",
              "       [0, 0],\n",
              "       ...,\n",
              "       [1, 0],\n",
              "       [0, 0],\n",
              "       [0, 0]])"
            ]
          },
          "metadata": {
            "tags": []
          },
          "execution_count": 58
        }
      ]
    },
    {
      "cell_type": "code",
      "metadata": {
        "id": "8Xl9jg6fw7Ox"
      },
      "source": [
        "from sklearn.metrics import confusion_matrix, accuracy_score\n"
      ],
      "execution_count": 59,
      "outputs": []
    },
    {
      "cell_type": "code",
      "metadata": {
        "id": "hAeswCYKy5Xa"
      },
      "source": [
        "cm = confusion_matrix(y_test, y_pred)"
      ],
      "execution_count": 60,
      "outputs": []
    },
    {
      "cell_type": "code",
      "metadata": {
        "id": "qBZ-JnWvzBDT",
        "outputId": "ffc597c6-0bcc-4f2b-f0df-313ec78c79ef",
        "colab": {
          "base_uri": "https://localhost:8080/",
          "height": 51
        }
      },
      "source": [
        "cm"
      ],
      "execution_count": 61,
      "outputs": [
        {
          "output_type": "execute_result",
          "data": {
            "text/plain": [
              "array([[1536,   57],\n",
              "       [ 199,  208]])"
            ]
          },
          "metadata": {
            "tags": []
          },
          "execution_count": 61
        }
      ]
    },
    {
      "cell_type": "code",
      "metadata": {
        "id": "mK6rJOcNzDzL",
        "outputId": "affdfd1a-9fd7-4384-b652-ad116b9a1d68",
        "colab": {
          "base_uri": "https://localhost:8080/",
          "height": 34
        }
      },
      "source": [
        "accuracy_score(y_test, y_pred)"
      ],
      "execution_count": 62,
      "outputs": [
        {
          "output_type": "execute_result",
          "data": {
            "text/plain": [
              "0.872"
            ]
          },
          "metadata": {
            "tags": []
          },
          "execution_count": 62
        }
      ]
    }
  ]
}